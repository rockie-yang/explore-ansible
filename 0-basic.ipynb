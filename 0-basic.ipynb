{
 "cells": [
  {
   "cell_type": "markdown",
   "metadata": {},
   "source": [
    "## Ansible Config\n",
    "\n",
    "Search order\n",
    "\n",
    "1. File specified by the ANSIBLE_CONFIG environment variable\n",
    "2. ./ansible.cfg (ansible.cfg in the current directory)\n",
    "3. ~/.ansible.cfg (.ansible.cfg in your home directory)\n",
    "4. /etc/ansible/ansible.cfg\n",
    "\n",
    "Some specific configuration, just put it either in ansible.cfg file in local directory or in home directory\n",
    "\n"
   ]
  },
  {
   "cell_type": "markdown",
   "metadata": {},
   "source": [
    "## Ping a machine\n",
    "\n",
    "\n",
    "    ansible <machine> -i <hosts file> -m <module>\n",
    "\n",
    "this is an example hosts file with basic configuration.\n",
    "\n",
    "    ansible ansible_host=ansible ansible_user=ansible ansible_private_key_file=/root/id_rsa\n",
    "    debian  ansible_host=debian  ansible_user=ansible ansible_private_key_file=/root/id_rsa\n",
    "\n",
    "`ansible` and `debian` are the machine names. \n",
    "\n",
    "`ansible` is the machine which installed ansible. It can also be provisioned by ansible itself"
   ]
  },
  {
   "cell_type": "code",
   "execution_count": 5,
   "metadata": {},
   "outputs": [
    {
     "name": "stdout",
     "output_type": "stream",
     "text": [
      "\u001b[0;32mansible | SUCCESS => {\r\n",
      "    \"changed\": false, \r\n",
      "    \"ping\": \"pong\"\r\n",
      "}\u001b[0m\r\n"
     ]
    }
   ],
   "source": [
    "!ansible ansible -i 0-basic/hosts -m ping"
   ]
  },
  {
   "cell_type": "code",
   "execution_count": 6,
   "metadata": {},
   "outputs": [
    {
     "name": "stdout",
     "output_type": "stream",
     "text": [
      "\u001b[0;32mdebian | SUCCESS => {\r\n",
      "    \"changed\": false, \r\n",
      "    \"ping\": \"pong\"\r\n",
      "}\u001b[0m\r\n"
     ]
    }
   ],
   "source": [
    "!ansible debian  -i 0-basic/hosts -m ping"
   ]
  },
  {
   "cell_type": "markdown",
   "metadata": {},
   "source": [
    "## Execute a specific command\n",
    "\n",
    "    ansible localuser -i playbooks/hosts -m command -a uptime\n",
    "    \n",
    "The `command` module is so commonly used so that we can omit it\n",
    "\n",
    "    ansible localuser -i playbooks/hosts -a uptime\n",
    "    \n",
    "We can quote command parameters with '' or \" \" if it contains space\n",
    "\n",
    "    ansible localuser -i playbooks/hosts -a 'ip addr'\n",
    "    ansible localuser -i playbooks/hosts -a \"ip addr\"   "
   ]
  },
  {
   "cell_type": "code",
   "execution_count": 8,
   "metadata": {},
   "outputs": [
    {
     "name": "stdout",
     "output_type": "stream",
     "text": [
      "\u001b[0;32mdebian | SUCCESS | rc=0 >>\r\n",
      " 04:19:52 up 25 min,  1 user,  load average: 0.09, 0.02, 0.01\r\n",
      "\u001b[0m\r\n"
     ]
    }
   ],
   "source": [
    "!ansible debian  -i 0-basic/hosts -m command -a uptime"
   ]
  },
  {
   "cell_type": "markdown",
   "metadata": {},
   "source": [
    "The command module is so commonly used so that we can omit it"
   ]
  },
  {
   "cell_type": "code",
   "execution_count": 9,
   "metadata": {},
   "outputs": [
    {
     "name": "stdout",
     "output_type": "stream",
     "text": [
      "\u001b[0;32mdebian | SUCCESS | rc=0 >>\r\n",
      " 04:20:07 up 25 min,  1 user,  load average: 0.08, 0.02, 0.00\r\n",
      "\u001b[0m\r\n"
     ]
    }
   ],
   "source": [
    "!ansible debian  -i 0-basic/hosts -a uptime"
   ]
  },
  {
   "cell_type": "markdown",
   "metadata": {},
   "source": [
    "We can quote command parameters with '' or \" \" if it contains space"
   ]
  },
  {
   "cell_type": "code",
   "execution_count": 15,
   "metadata": {},
   "outputs": [
    {
     "name": "stdout",
     "output_type": "stream",
     "text": [
      "\u001b[0;32mdebian | SUCCESS | rc=0 >>\r\n",
      "1: lo: <LOOPBACK,UP,LOWER_UP> mtu 65536 qdisc noqueue state UNKNOWN group default qlen 1\r\n",
      "    link/loopback 00:00:00:00:00:00 brd 00:00:00:00:00:00\r\n",
      "    inet 127.0.0.1/8 scope host lo\r\n",
      "       valid_lft forever preferred_lft forever\r\n",
      "2: tunl0@NONE: <NOARP> mtu 1480 qdisc noop state DOWN group default qlen 1\r\n",
      "    link/ipip 0.0.0.0 brd 0.0.0.0\r\n",
      "3: ip6tnl0@NONE: <NOARP> mtu 1452 qdisc noop state DOWN group default qlen 1\r\n",
      "    link/tunnel6 :: brd ::\r\n",
      "9: eth0@if10: <BROADCAST,MULTICAST,UP,LOWER_UP> mtu 1500 qdisc noqueue state UP group default \r\n",
      "    link/ether 02:42:ac:12:00:03 brd ff:ff:ff:ff:ff:ff link-netnsid 0\r\n",
      "    inet 172.18.0.3/16 brd 172.18.255.255 scope global eth0\r\n",
      "       valid_lft forever preferred_lft forever\r\n",
      "\u001b[0m\r\n"
     ]
    }
   ],
   "source": [
    "!ansible debian -i 0-basic/hosts -a \"ip addr\" "
   ]
  },
  {
   "cell_type": "markdown",
   "metadata": {},
   "source": [
    "## Execute with root\n",
    "\n",
    "the option -b is used to execute command in root\n",
    "    \n",
    "Prerequisite\n",
    "\n",
    "- sudo command installed\n",
    "- the user has sudo permission. Add line like this by typing command visudo \"user   ALL=(ALL) NOPASSWD: ALL\"\n",
    "\n"
   ]
  },
  {
   "cell_type": "code",
   "execution_count": 12,
   "metadata": {},
   "outputs": [
    {
     "name": "stdout",
     "output_type": "stream",
     "text": [
      "\u001b[0;32mdebian | SUCCESS | rc=0 >>\r\n",
      "root:$6$uBtdcILg$.wU8ALJj.KhAISAf9tWXFHwQ03EciyY8dFxVDUhYOtBJBUP13P6T4e7gvX4u5kFZNDI4uJdUAMoNS3zBrjK47/:17765:0:99999:7:::\r\n",
      "daemon:*:17707:0:99999:7:::\r\n",
      "bin:*:17707:0:99999:7:::\r\n",
      "sys:*:17707:0:99999:7:::\r\n",
      "sync:*:17707:0:99999:7:::\r\n",
      "games:*:17707:0:99999:7:::\r\n",
      "man:*:17707:0:99999:7:::\r\n",
      "lp:*:17707:0:99999:7:::\r\n",
      "mail:*:17707:0:99999:7:::\r\n",
      "news:*:17707:0:99999:7:::\r\n",
      "uucp:*:17707:0:99999:7:::\r\n",
      "proxy:*:17707:0:99999:7:::\r\n",
      "www-data:*:17707:0:99999:7:::\r\n",
      "backup:*:17707:0:99999:7:::\r\n",
      "list:*:17707:0:99999:7:::\r\n",
      "irc:*:17707:0:99999:7:::\r\n",
      "gnats:*:17707:0:99999:7:::\r\n",
      "nobody:*:17707:0:99999:7:::\r\n",
      "_apt:*:17707:0:99999:7:::\r\n",
      "messagebus:*:17764:0:99999:7:::\r\n",
      "sshd:*:17764:0:99999:7:::\r\n",
      "systemd-timesync:*:17764:0:99999:7:::\r\n",
      "systemd-network:*:17764:0:99999:7:::\r\n",
      "systemd-resolve:*:17764:0:99999:7:::\r\n",
      "systemd-bus-proxy:*:17764:0:99999:7:::\r\n",
      "ansible:ansible:17765:0:99999:7:::\r\n",
      "test:test:17765:0:99999:7:::\r\n",
      "\u001b[0m\r\n"
     ]
    }
   ],
   "source": [
    "!ansible debian -i 0-basic/hosts -b -a \"cat /etc/shadow\""
   ]
  },
  {
   "cell_type": "markdown",
   "metadata": {},
   "source": [
    "## Execute command on multiple machines\n",
    "\n",
    "by define a group of machine in hosts file. we can send commands to all of them.\n",
    "\n",
    "basic is a group of machine, which as ansible and debian\n",
    "\n",
    "    ansible ansible_host=ansible ansible_user=ansible ansible_private_key_file=/root/id_rsa\n",
    "    debian  ansible_host=debian  ansible_user=ansible ansible_private_key_file=/root/id_rsa\n",
    "\n",
    "    [basic]\n",
    "    ansible\n",
    "    debian"
   ]
  },
  {
   "cell_type": "code",
   "execution_count": 18,
   "metadata": {},
   "outputs": [
    {
     "name": "stdout",
     "output_type": "stream",
     "text": [
      "\u001b[0;32mansible | SUCCESS | rc=0 >>\n",
      "7: eth0@if8: <BROADCAST,MULTICAST,UP,LOWER_UP> mtu 1500 qdisc noqueue state UP group default \n",
      "    link/ether 02:42:ac:12:00:02 brd ff:ff:ff:ff:ff:ff link-netnsid 0\n",
      "    inet 172.18.0.2/16 brd 172.18.255.255 scope global eth0\n",
      "       valid_lft forever preferred_lft forever\n",
      "\u001b[0m\n",
      "\u001b[0;32mdebian | SUCCESS | rc=0 >>\n",
      "9: eth0@if10: <BROADCAST,MULTICAST,UP,LOWER_UP> mtu 1500 qdisc noqueue state UP group default \n",
      "    link/ether 02:42:ac:12:00:03 brd ff:ff:ff:ff:ff:ff link-netnsid 0\n",
      "    inet 172.18.0.3/16 brd 172.18.255.255 scope global eth0\n",
      "       valid_lft forever preferred_lft forever\n",
      "\u001b[0m\n"
     ]
    }
   ],
   "source": [
    "!ansible basic -i 0-basic/hosts -a \"ip addr show eth0\" "
   ]
  },
  {
   "cell_type": "markdown",
   "metadata": {},
   "source": [
    "`command` module does not support variables like `$HOME` and operations like `\"<\"`, `\">\"`, `\"|\"`, `\";\"` and `\"&\"` will not work (use the shell module if you need these features)."
   ]
  },
  {
   "cell_type": "code",
   "execution_count": 19,
   "metadata": {},
   "outputs": [
    {
     "name": "stdout",
     "output_type": "stream",
     "text": [
      "\u001b[0;32mansible | SUCCESS | rc=0 >>\n",
      "    inet 127.0.0.1/8 scope host lo\n",
      "    inet 172.18.0.2/16 brd 172.18.255.255 scope global eth0\n",
      "\u001b[0m\n",
      "\u001b[0;32mdebian | SUCCESS | rc=0 >>\n",
      "    inet 127.0.0.1/8 scope host lo\n",
      "    inet 172.18.0.3/16 brd 172.18.255.255 scope global eth0\n",
      "\u001b[0m\n"
     ]
    }
   ],
   "source": [
    "!ansible basic -i 0-basic/hosts -m shell -a \"ip addr | grep inet\" "
   ]
  },
  {
   "cell_type": "markdown",
   "metadata": {},
   "source": [
    "## First playbook"
   ]
  },
  {
   "cell_type": "code",
   "execution_count": 20,
   "metadata": {},
   "outputs": [
    {
     "name": "stdout",
     "output_type": "stream",
     "text": [
      "\n",
      "PLAY [first playbook] **********************************************************\n",
      "\n",
      "TASK [setup] *******************************************************************\n",
      "\u001b[0;32mok: [ansible]\u001b[0m\n",
      "\u001b[0;32mok: [debian]\u001b[0m\n",
      "\n",
      "TASK [execute a command] *******************************************************\n",
      "\u001b[0;33mchanged: [ansible]\u001b[0m\n",
      "\u001b[0;33mchanged: [debian]\u001b[0m\n",
      "\n",
      "PLAY RECAP *********************************************************************\n",
      "\u001b[0;33mansible\u001b[0m                    : \u001b[0;32mok=2   \u001b[0m \u001b[0;33mchanged=1   \u001b[0m unreachable=0    failed=0   \n",
      "\u001b[0;33mdebian\u001b[0m                     : \u001b[0;32mok=2   \u001b[0m \u001b[0;33mchanged=1   \u001b[0m unreachable=0    failed=0   \n",
      "\n"
     ]
    }
   ],
   "source": [
    "!ansible-playbook -i 0-basic/hosts 0-basic/first-playbook.yml"
   ]
  },
  {
   "cell_type": "code",
   "execution_count": null,
   "metadata": {},
   "outputs": [],
   "source": []
  }
 ],
 "metadata": {
  "kernelspec": {
   "display_name": "Python 3",
   "language": "python",
   "name": "python3"
  },
  "language_info": {
   "codemirror_mode": {
    "name": "ipython",
    "version": 3
   },
   "file_extension": ".py",
   "mimetype": "text/x-python",
   "name": "python",
   "nbconvert_exporter": "python",
   "pygments_lexer": "ipython3",
   "version": "3.5.3"
  }
 },
 "nbformat": 4,
 "nbformat_minor": 2
}
