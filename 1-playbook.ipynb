{
 "cells": [
  {
   "cell_type": "markdown",
   "metadata": {},
   "source": [
    "## Playbook\n",
    "\n",
    "Playbooks are Ansible’s configuration, deployment, and orchestration language. They can describe a policy you want your remote systems to enforce, or a set of steps in a general IT process. \n",
    "\n",
    "Playbook are expressed in YAML format.\n",
    "\n",
    "Ansible playbook using 2 levels structure. A playbook can have 1 or more play, a play can have 1 or more tasks\n",
    "\n",
    "    play\n",
    "        task"
   ]
  },
  {
   "cell_type": "code",
   "execution_count": 12,
   "metadata": {},
   "outputs": [
    {
     "name": "stdout",
     "output_type": "stream",
     "text": [
      "---\r\n",
      "- name: this is a play\r\n",
      "  hosts: debian\r\n",
      "  tasks:\r\n",
      "    - name: this is a task to check OS information\r\n",
      "      command: uname -a\r\n",
      "\r\n",
      "    - name: this is a task to install nginx\r\n",
      "      apt:\r\n",
      "        name: nginx\r\n",
      "        update_cache: yes"
     ]
    }
   ],
   "source": [
    "!cat 1-playbook/basic-structure.yml"
   ]
  },
  {
   "cell_type": "code",
   "execution_count": 15,
   "metadata": {},
   "outputs": [
    {
     "name": "stdout",
     "output_type": "stream",
     "text": [
      "\n",
      "PLAY [this is a play] **********************************************************\n",
      "\n",
      "TASK [setup] *******************************************************************\n",
      "\u001b[0;32mok: [debian]\u001b[0m\n",
      "\n",
      "TASK [this is a task to check OS information] **********************************\n",
      "\u001b[0;33mchanged: [debian]\u001b[0m\n",
      "\n",
      "TASK [this is a task to install nginx] *****************************************\n",
      "\u001b[0;33mchanged: [debian]\u001b[0m\n",
      "\n",
      "PLAY RECAP *********************************************************************\n",
      "\u001b[0;33mdebian\u001b[0m                     : \u001b[0;32mok=3   \u001b[0m \u001b[0;33mchanged=2   \u001b[0m unreachable=0    failed=0   \n",
      "\n"
     ]
    }
   ],
   "source": [
    "!ansible-playbook -i 1-playbook/hosts 1-playbook/basic-structure.yml"
   ]
  },
  {
   "cell_type": "markdown",
   "metadata": {},
   "source": [
    "become is a parameter for a task, but not for module like apt. it must be on same level as a task"
   ]
  },
  {
   "cell_type": "code",
   "execution_count": null,
   "metadata": {},
   "outputs": [],
   "source": []
  }
 ],
 "metadata": {
  "kernelspec": {
   "display_name": "Python 3",
   "language": "python",
   "name": "python3"
  },
  "language_info": {
   "codemirror_mode": {
    "name": "ipython",
    "version": 3
   },
   "file_extension": ".py",
   "mimetype": "text/x-python",
   "name": "python",
   "nbconvert_exporter": "python",
   "pygments_lexer": "ipython3",
   "version": "3.5.3"
  }
 },
 "nbformat": 4,
 "nbformat_minor": 2
}
